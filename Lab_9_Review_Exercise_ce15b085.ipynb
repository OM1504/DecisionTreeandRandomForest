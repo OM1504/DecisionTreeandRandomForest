{
 "cells": [
  {
   "cell_type": "markdown",
   "metadata": {},
   "source": [
    "<font>Classify the Iris dataset using KNN and SVM models:<br>\n",
    "1. Choose the best hperparameter 'K' in KNN classification using grid search<br>\n",
    "2. Choose the best Kernel (Linear or RBF) for SVC and its coressponding Gamma and C parameters using grid search<br>\n",
    "3. Compare the accuracy of KNN and SVC for their best hyperparameter values<br>\n",
    "4. Compare the performance of KNN and SVC using Precision, Recall and F1 score for their best hyperparameter values</font>"
   ]
  },
  {
   "cell_type": "code",
   "execution_count": 1,
   "metadata": {},
   "outputs": [],
   "source": [
    "from sklearn.datasets import load_iris \n",
    "iris = load_iris() "
   ]
  },
  {
   "cell_type": "code",
   "execution_count": 2,
   "metadata": {},
   "outputs": [],
   "source": [
    "data=iris.data\n",
    "target=iris.target"
   ]
  },
  {
   "cell_type": "code",
   "execution_count": 22,
   "metadata": {},
   "outputs": [],
   "source": [
    "from sklearn.svm import SVC\n",
    "import matplotlib.pyplot as plt\n",
    "from sklearn.neighbors import KNeighborsClassifier"
   ]
  },
  {
   "cell_type": "markdown",
   "metadata": {},
   "source": [
    "## SVC"
   ]
  },
  {
   "cell_type": "code",
   "execution_count": 27,
   "metadata": {},
   "outputs": [
    {
     "name": "stdout",
     "output_type": "stream",
     "text": [
      "Wall time: 3.44 s\n",
      "{'C': 50, 'gamma': 0.005, 'kernel': 'rbf'}\n",
      "Accuracy= 1.0\n"
     ]
    }
   ],
   "source": [
    "svc = SVC(class_weight='balanced',random_state=0)\n",
    "#lr = LogisticRegression(random_state=0)\n",
    "\n",
    "from sklearn.cross_validation import train_test_split\n",
    "X_train, X_test, y_train, y_test = train_test_split(data, target,stratify=target,\n",
    "                                                random_state=0)\n",
    "\n",
    "model = svc\n",
    "#model = lr\n",
    "\n",
    "Xtrain.shape\n",
    "\n",
    "\n",
    "\n",
    "from sklearn.grid_search import GridSearchCV\n",
    "param_grid = {'max_depth': [1, 5, 7, 10],\n",
    "              'gamma': [0.0001, 0.0005, 0.001, 0.005],\n",
    "             'kernel':['rbf','linear','poly','sigmoid'],}\n",
    "#param_grid = {'C': [0.001, 0.01, 0.1, 1, 10, 100, 1000] }\n",
    "grid = GridSearchCV(model, param_grid,n_jobs=-1)\n",
    "%time grid.fit(X_train, y_train)\n",
    "print(grid.best_params_)\n",
    "\n",
    "\n",
    "\n",
    "model = grid.best_estimator_\n",
    "yfit = model.predict(X_test)\n",
    "print(\"Accuracy=\",model.score(X_test,y_test))\n",
    "\n"
   ]
  },
  {
   "cell_type": "code",
   "execution_count": 28,
   "metadata": {},
   "outputs": [
    {
     "name": "stdout",
     "output_type": "stream",
     "text": [
      "[[13  0  0]\n",
      " [ 0 13  0]\n",
      " [ 0  0 12]]\n"
     ]
    },
    {
     "data": {
      "image/png": "[encoded data removed]",
      "text/plain": [
       "<Figure size 180x180 with 1 Axes>"
      ]
     },
     "metadata": {},
     "output_type": "display_data"
    },
    {
     "name": "stdout",
     "output_type": "stream",
     "text": [
      "             precision    recall  f1-score   support\n",
      "\n",
      "          0       0.46      0.46      0.46        13\n",
      "          1       0.54      0.44      0.48        16\n",
      "          2       0.33      0.44      0.38         9\n",
      "\n",
      "avg / total       0.46      0.45      0.45        38\n",
      "\n"
     ]
    }
   ],
   "source": [
    "from sklearn.metrics import confusion_matrix \n",
    "\n",
    "y_pred = model.predict(X_test) \n",
    "\n",
    "confmat = confusion_matrix(y_true=y_test, y_pred=y_pred) \n",
    "print(confmat) \n",
    "fig, ax = plt.subplots(figsize=(2.5, 2.5)) \n",
    "ax.matshow(confmat, cmap=plt.cm.Blues, alpha=0.3) \n",
    "\n",
    "for i in range(confmat.shape[0]): \n",
    "    for j in range(confmat.shape[1]):\n",
    "        ax.text(x=j, y=i, s=confmat[i, j], va='center', ha='center')\n",
    "\n",
    "plt.xlabel('predicted label') \n",
    "plt.ylabel('true label') \n",
    "plt.show()\n",
    "from sklearn.metrics import classification_report\n",
    "print(classification_report(ytest, yfit))"
   ]
  },
  {
   "cell_type": "markdown",
   "metadata": {},
   "source": [
    "## KNN"
   ]
  },
  {
   "cell_type": "code",
   "execution_count": 30,
   "metadata": {},
   "outputs": [
    {
     "name": "stdout",
     "output_type": "stream",
     "text": [
      "Wall time: 3 s\n",
      "{'n_neighbors': 4}\n",
      "Accuracy= 1.0\n"
     ]
    }
   ],
   "source": [
    "#svc = SVC(class_weight='balanced',random_state=0)\n",
    "#lr = LogisticRegression(random_state=0)\n",
    "\n",
    "from sklearn.cross_validation import train_test_split\n",
    "X_train, X_test, y_train, y_test = train_test_split(data, target,stratify=target,\n",
    "                                                random_state=0)\n",
    "\n",
    "model = KNeighborsClassifier()\n",
    "#model = lr\n",
    "\n",
    "Xtrain.shape\n",
    "\n",
    "\n",
    "\n",
    "from sklearn.grid_search import GridSearchCV\n",
    "param_grid = {'n_neighbors': [1, 2,3,4,6, 5, 7,10,15,20]}\n",
    "#param_grid = {'C': [0.001, 0.01, 0.1, 1, 10, 100, 1000] }\n",
    "grid = GridSearchCV(model, param_grid,n_jobs=-1)\n",
    "%time grid.fit(X_train, y_train)\n",
    "print(grid.best_params_)\n",
    "\n",
    "\n",
    "\n",
    "model = grid.best_estimator_\n",
    "yfit = model.predict(X_test)\n",
    "print(\"Accuracy=\",model.score(X_test,y_test))\n",
    "\n"
   ]
  },
  {
   "cell_type": "code",
   "execution_count": 31,
   "metadata": {},
   "outputs": [
    {
     "name": "stdout",
     "output_type": "stream",
     "text": [
      "[[13  0  0]\n",
      " [ 0 13  0]\n",
      " [ 0  0 12]]\n"
     ]
    },
    {
     "data": {
      "image/png": "[encoded data removed]",
      "text/plain": [
       "<Figure size 180x180 with 1 Axes>"
      ]
     },
     "metadata": {},
     "output_type": "display_data"
    },
    {
     "name": "stdout",
     "output_type": "stream",
     "text": [
      "             precision    recall  f1-score   support\n",
      "\n",
      "          0       0.46      0.46      0.46        13\n",
      "          1       0.54      0.44      0.48        16\n",
      "          2       0.33      0.44      0.38         9\n",
      "\n",
      "avg / total       0.46      0.45      0.45        38\n",
      "\n"
     ]
    }
   ],
   "source": [
    "from sklearn.metrics import confusion_matrix \n",
    "\n",
    "y_pred = model.predict(X_test) \n",
    "\n",
    "confmat = confusion_matrix(y_true=y_test, y_pred=y_pred) \n",
    "print(confmat) \n",
    "fig, ax = plt.subplots(figsize=(2.5, 2.5)) \n",
    "ax.matshow(confmat, cmap=plt.cm.Blues, alpha=0.3) \n",
    "\n",
    "for i in range(confmat.shape[0]): \n",
    "    for j in range(confmat.shape[1]):\n",
    "        ax.text(x=j, y=i, s=confmat[i, j], va='center', ha='center')\n",
    "\n",
    "plt.xlabel('predicted label') \n",
    "plt.ylabel('true label') \n",
    "plt.show()\n",
    "from sklearn.metrics import classification_report\n",
    "print(classification_report(ytest, yfit))"
   ]
  },
  {
   "cell_type": "markdown",
   "metadata": {},
   "source": [
    "For KNN classifier we are getting best results for K=4. The accuracy is 100%\n",
    "For SVM classifier we are getting best results for C=50, gamma=0.005 and kernel is 'rbf'.\n",
    "Precision recall and f1-score are exactly same for both classifiers. After doing stratify target we removed class imbalance in splitting data which caused accuracy to go to 1 for both classifiers"
   ]
  },
  {
   "cell_type": "code",
   "execution_count": null,
   "metadata": {},
   "outputs": [],
   "source": []
  }
 ],
 "metadata": {
  "kernelspec": {
   "display_name": "Python 3",
   "language": "python",
   "name": "python3"
  },
  "language_info": {
   "codemirror_mode": {
    "name": "ipython",
    "version": 3
   },
   "file_extension": ".py",
   "mimetype": "text/x-python",
   "name": "python",
   "nbconvert_exporter": "python",
   "pygments_lexer": "ipython3",
   "version": "3.6.5"
  }
 },
 "nbformat": 4,
 "nbformat_minor": 2
}
